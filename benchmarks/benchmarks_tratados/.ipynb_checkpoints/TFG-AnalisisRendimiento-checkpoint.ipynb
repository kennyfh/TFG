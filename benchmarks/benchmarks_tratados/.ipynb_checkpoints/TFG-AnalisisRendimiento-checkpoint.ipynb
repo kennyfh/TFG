{
 "cells": [
  {
   "cell_type": "code",
   "execution_count": 1,
   "id": "smooth-kitty",
   "metadata": {},
   "outputs": [],
   "source": [
    "# Importamos librerías\n",
    "import numpy as np\n",
    "import pandas as pd\n",
    "import plotly.express as px"
   ]
  },
  {
   "cell_type": "code",
   "execution_count": 2,
   "id": "annoying-polls",
   "metadata": {},
   "outputs": [],
   "source": [
    "## Función auxiliar que nos va a servir para convertir todas las medidas en ms\n",
    "def conversor_ms(texto):\n",
    "    texto=texto.strip()\n",
    "    if texto.endswith(\"ms\"):\n",
    "        return float(texto[:-2]) # Si ya es milisegundos lo dejamos como float\n",
    "    elif texto.endswith(\"ns\"):\n",
    "        return 10**-6 * float(texto[:-2]) #milliseconds = nanoseconds ÷ 1,000,000 \n",
    "    elif texto.endswith(\"μs\"):\n",
    "        return float(texto[:-2]) / 1000 #milliseconds = microseconds ÷ 1,000 \n",
    "    elif texto.endswith(\"s\"):\n",
    "        return 1000 * float(texto[:-1])\n",
    "    else:\n",
    "        raise Exception(\"Invalid duration value\")\n"
   ]
  },
  {
   "cell_type": "markdown",
   "id": "fatty-explosion",
   "metadata": {},
   "source": [
    "# Análisis de Rendimiento - Histogramas"
   ]
  },
  {
   "cell_type": "code",
   "execution_count": 6,
   "id": "tutorial-removal",
   "metadata": {},
   "outputs": [
    {
     "data": {
      "text/html": [
       "<div>\n",
       "<style scoped>\n",
       "    .dataframe tbody tr th:only-of-type {\n",
       "        vertical-align: middle;\n",
       "    }\n",
       "\n",
       "    .dataframe tbody tr th {\n",
       "        vertical-align: top;\n",
       "    }\n",
       "\n",
       "    .dataframe thead th {\n",
       "        text-align: right;\n",
       "    }\n",
       "</style>\n",
       "<table border=\"1\" class=\"dataframe\">\n",
       "  <thead>\n",
       "    <tr style=\"text-align: right;\">\n",
       "      <th></th>\n",
       "      <th>Unnamed: 0</th>\n",
       "      <th>230k</th>\n",
       "      <th>260k</th>\n",
       "      <th>518k</th>\n",
       "      <th>589k</th>\n",
       "      <th>921k</th>\n",
       "      <th>2M</th>\n",
       "    </tr>\n",
       "  </thead>\n",
       "  <tbody>\n",
       "    <tr>\n",
       "      <th>0</th>\n",
       "      <td>Repa V1</td>\n",
       "      <td>1.402 s</td>\n",
       "      <td>1.767 s</td>\n",
       "      <td>3.227 s</td>\n",
       "      <td>4.578 s</td>\n",
       "      <td>6.213 s</td>\n",
       "      <td>13.77 s</td>\n",
       "    </tr>\n",
       "    <tr>\n",
       "      <th>1</th>\n",
       "      <td>Repa v2</td>\n",
       "      <td>798.3 ms</td>\n",
       "      <td>1.088 s</td>\n",
       "      <td>2.023 s</td>\n",
       "      <td>2.128 s</td>\n",
       "      <td>3.459 s</td>\n",
       "      <td>10.06 s</td>\n",
       "    </tr>\n",
       "    <tr>\n",
       "      <th>2</th>\n",
       "      <td>Repa V3</td>\n",
       "      <td>82.73 ms</td>\n",
       "      <td>115.9 ms</td>\n",
       "      <td>130.6 ms</td>\n",
       "      <td>106.2 ms</td>\n",
       "      <td>196.7 ms</td>\n",
       "      <td>394.8 ms</td>\n",
       "    </tr>\n",
       "    <tr>\n",
       "      <th>3</th>\n",
       "      <td>Acc : Interprete</td>\n",
       "      <td>926.0 ms</td>\n",
       "      <td>1.590 s</td>\n",
       "      <td>2.030 s</td>\n",
       "      <td>2.484 s</td>\n",
       "      <td>3.618 s</td>\n",
       "      <td>8.395 s</td>\n",
       "    </tr>\n",
       "    <tr>\n",
       "      <th>4</th>\n",
       "      <td>Acc : CPU</td>\n",
       "      <td>6.612 ms</td>\n",
       "      <td>7.247 ms</td>\n",
       "      <td>16.76 ms</td>\n",
       "      <td>16.56 ms</td>\n",
       "      <td>22.98 ms</td>\n",
       "      <td>48.81 ms</td>\n",
       "    </tr>\n",
       "    <tr>\n",
       "      <th>5</th>\n",
       "      <td>Acc : GPU</td>\n",
       "      <td>584.0 μs</td>\n",
       "      <td>629.2 μs</td>\n",
       "      <td>874.9 μs</td>\n",
       "      <td>881.1 μs</td>\n",
       "      <td>1.197 ms</td>\n",
       "      <td>3.485 ms</td>\n",
       "    </tr>\n",
       "  </tbody>\n",
       "</table>\n",
       "</div>"
      ],
      "text/plain": [
       "         Unnamed: 0       230k      260k      518k       589k      921k  \\\n",
       "0           Repa V1   1.402 s   1.767 s   3.227 s     4.578 s   6.213 s   \n",
       "1           Repa v2   798.3 ms   1.088 s  2.023 s     2.128 s  3.459 s    \n",
       "2           Repa V3   82.73 ms  115.9 ms  130.6 ms   106.2 ms  196.7 ms   \n",
       "3  Acc : Interprete  926.0 ms    1.590 s  2.030 s    2.484 s   3.618 s    \n",
       "4         Acc : CPU  6.612 ms   7.247 ms  16.76 ms   16.56 ms  22.98 ms   \n",
       "5         Acc : GPU  584.0 μs   629.2 μs  874.9 μs  881.1 μs   1.197 ms   \n",
       "\n",
       "          2M  \n",
       "0    13.77 s  \n",
       "1    10.06 s  \n",
       "2  394.8 ms   \n",
       "3    8.395 s  \n",
       "4   48.81 ms  \n",
       "5  3.485 ms   "
      ]
     },
     "execution_count": 6,
     "metadata": {},
     "output_type": "execute_result"
    }
   ],
   "source": [
    "histograma = pd.read_csv(\"histograma.csv\", header=0,index_col=0)\n",
    "histograma"
   ]
  },
  {
   "cell_type": "code",
   "execution_count": 7,
   "id": "statewide-publicity",
   "metadata": {},
   "outputs": [
    {
     "ename": "Exception",
     "evalue": "Invalid duration value",
     "output_type": "error",
     "traceback": [
      "\u001b[0;31m---------------------------------------------------------------------------\u001b[0m",
      "\u001b[0;31mException\u001b[0m                                 Traceback (most recent call last)",
      "Input \u001b[0;32mIn [7]\u001b[0m, in \u001b[0;36m<cell line: 2>\u001b[0;34m()\u001b[0m\n\u001b[1;32m      1\u001b[0m \u001b[38;5;66;03m# Conversión de todas las unidades a ms\u001b[39;00m\n\u001b[0;32m----> 2\u001b[0m histograma \u001b[38;5;241m=\u001b[39m \u001b[43mhistograma\u001b[49m\u001b[38;5;241;43m.\u001b[39;49m\u001b[43mapplymap\u001b[49m\u001b[43m(\u001b[49m\u001b[43mconversor_ms\u001b[49m\u001b[43m)\u001b[49m\n\u001b[1;32m      3\u001b[0m histograma\n",
      "File \u001b[0;32m~/Documents/IE/ml-movie-oraculum/venv/lib/python3.9/site-packages/pandas/core/frame.py:8924\u001b[0m, in \u001b[0;36mDataFrame.applymap\u001b[0;34m(self, func, na_action, **kwargs)\u001b[0m\n\u001b[1;32m   8921\u001b[0m         \u001b[38;5;28;01mreturn\u001b[39;00m lib\u001b[38;5;241m.\u001b[39mmap_infer(x, func, ignore_na\u001b[38;5;241m=\u001b[39mignore_na)\n\u001b[1;32m   8922\u001b[0m     \u001b[38;5;28;01mreturn\u001b[39;00m lib\u001b[38;5;241m.\u001b[39mmap_infer(x\u001b[38;5;241m.\u001b[39mastype(\u001b[38;5;28mobject\u001b[39m)\u001b[38;5;241m.\u001b[39m_values, func, ignore_na\u001b[38;5;241m=\u001b[39mignore_na)\n\u001b[0;32m-> 8924\u001b[0m \u001b[38;5;28;01mreturn\u001b[39;00m \u001b[38;5;28;43mself\u001b[39;49m\u001b[38;5;241;43m.\u001b[39;49m\u001b[43mapply\u001b[49m\u001b[43m(\u001b[49m\u001b[43minfer\u001b[49m\u001b[43m)\u001b[49m\u001b[38;5;241m.\u001b[39m__finalize__(\u001b[38;5;28mself\u001b[39m, \u001b[38;5;124m\"\u001b[39m\u001b[38;5;124mapplymap\u001b[39m\u001b[38;5;124m\"\u001b[39m)\n",
      "File \u001b[0;32m~/Documents/IE/ml-movie-oraculum/venv/lib/python3.9/site-packages/pandas/core/frame.py:8839\u001b[0m, in \u001b[0;36mDataFrame.apply\u001b[0;34m(self, func, axis, raw, result_type, args, **kwargs)\u001b[0m\n\u001b[1;32m   8828\u001b[0m \u001b[38;5;28;01mfrom\u001b[39;00m \u001b[38;5;21;01mpandas\u001b[39;00m\u001b[38;5;21;01m.\u001b[39;00m\u001b[38;5;21;01mcore\u001b[39;00m\u001b[38;5;21;01m.\u001b[39;00m\u001b[38;5;21;01mapply\u001b[39;00m \u001b[38;5;28;01mimport\u001b[39;00m frame_apply\n\u001b[1;32m   8830\u001b[0m op \u001b[38;5;241m=\u001b[39m frame_apply(\n\u001b[1;32m   8831\u001b[0m     \u001b[38;5;28mself\u001b[39m,\n\u001b[1;32m   8832\u001b[0m     func\u001b[38;5;241m=\u001b[39mfunc,\n\u001b[0;32m   (...)\u001b[0m\n\u001b[1;32m   8837\u001b[0m     kwargs\u001b[38;5;241m=\u001b[39mkwargs,\n\u001b[1;32m   8838\u001b[0m )\n\u001b[0;32m-> 8839\u001b[0m \u001b[38;5;28;01mreturn\u001b[39;00m \u001b[43mop\u001b[49m\u001b[38;5;241;43m.\u001b[39;49m\u001b[43mapply\u001b[49m\u001b[43m(\u001b[49m\u001b[43m)\u001b[49m\u001b[38;5;241m.\u001b[39m__finalize__(\u001b[38;5;28mself\u001b[39m, method\u001b[38;5;241m=\u001b[39m\u001b[38;5;124m\"\u001b[39m\u001b[38;5;124mapply\u001b[39m\u001b[38;5;124m\"\u001b[39m)\n",
      "File \u001b[0;32m~/Documents/IE/ml-movie-oraculum/venv/lib/python3.9/site-packages/pandas/core/apply.py:727\u001b[0m, in \u001b[0;36mFrameApply.apply\u001b[0;34m(self)\u001b[0m\n\u001b[1;32m    724\u001b[0m \u001b[38;5;28;01melif\u001b[39;00m \u001b[38;5;28mself\u001b[39m\u001b[38;5;241m.\u001b[39mraw:\n\u001b[1;32m    725\u001b[0m     \u001b[38;5;28;01mreturn\u001b[39;00m \u001b[38;5;28mself\u001b[39m\u001b[38;5;241m.\u001b[39mapply_raw()\n\u001b[0;32m--> 727\u001b[0m \u001b[38;5;28;01mreturn\u001b[39;00m \u001b[38;5;28;43mself\u001b[39;49m\u001b[38;5;241;43m.\u001b[39;49m\u001b[43mapply_standard\u001b[49m\u001b[43m(\u001b[49m\u001b[43m)\u001b[49m\n",
      "File \u001b[0;32m~/Documents/IE/ml-movie-oraculum/venv/lib/python3.9/site-packages/pandas/core/apply.py:851\u001b[0m, in \u001b[0;36mFrameApply.apply_standard\u001b[0;34m(self)\u001b[0m\n\u001b[1;32m    850\u001b[0m \u001b[38;5;28;01mdef\u001b[39;00m \u001b[38;5;21mapply_standard\u001b[39m(\u001b[38;5;28mself\u001b[39m):\n\u001b[0;32m--> 851\u001b[0m     results, res_index \u001b[38;5;241m=\u001b[39m \u001b[38;5;28;43mself\u001b[39;49m\u001b[38;5;241;43m.\u001b[39;49m\u001b[43mapply_series_generator\u001b[49m\u001b[43m(\u001b[49m\u001b[43m)\u001b[49m\n\u001b[1;32m    853\u001b[0m     \u001b[38;5;66;03m# wrap results\u001b[39;00m\n\u001b[1;32m    854\u001b[0m     \u001b[38;5;28;01mreturn\u001b[39;00m \u001b[38;5;28mself\u001b[39m\u001b[38;5;241m.\u001b[39mwrap_results(results, res_index)\n",
      "File \u001b[0;32m~/Documents/IE/ml-movie-oraculum/venv/lib/python3.9/site-packages/pandas/core/apply.py:867\u001b[0m, in \u001b[0;36mFrameApply.apply_series_generator\u001b[0;34m(self)\u001b[0m\n\u001b[1;32m    864\u001b[0m \u001b[38;5;28;01mwith\u001b[39;00m option_context(\u001b[38;5;124m\"\u001b[39m\u001b[38;5;124mmode.chained_assignment\u001b[39m\u001b[38;5;124m\"\u001b[39m, \u001b[38;5;28;01mNone\u001b[39;00m):\n\u001b[1;32m    865\u001b[0m     \u001b[38;5;28;01mfor\u001b[39;00m i, v \u001b[38;5;129;01min\u001b[39;00m \u001b[38;5;28menumerate\u001b[39m(series_gen):\n\u001b[1;32m    866\u001b[0m         \u001b[38;5;66;03m# ignore SettingWithCopy here in case the user mutates\u001b[39;00m\n\u001b[0;32m--> 867\u001b[0m         results[i] \u001b[38;5;241m=\u001b[39m \u001b[38;5;28;43mself\u001b[39;49m\u001b[38;5;241;43m.\u001b[39;49m\u001b[43mf\u001b[49m\u001b[43m(\u001b[49m\u001b[43mv\u001b[49m\u001b[43m)\u001b[49m\n\u001b[1;32m    868\u001b[0m         \u001b[38;5;28;01mif\u001b[39;00m \u001b[38;5;28misinstance\u001b[39m(results[i], ABCSeries):\n\u001b[1;32m    869\u001b[0m             \u001b[38;5;66;03m# If we have a view on v, we need to make a copy because\u001b[39;00m\n\u001b[1;32m    870\u001b[0m             \u001b[38;5;66;03m#  series_generator will swap out the underlying data\u001b[39;00m\n\u001b[1;32m    871\u001b[0m             results[i] \u001b[38;5;241m=\u001b[39m results[i]\u001b[38;5;241m.\u001b[39mcopy(deep\u001b[38;5;241m=\u001b[39m\u001b[38;5;28;01mFalse\u001b[39;00m)\n",
      "File \u001b[0;32m~/Documents/IE/ml-movie-oraculum/venv/lib/python3.9/site-packages/pandas/core/frame.py:8922\u001b[0m, in \u001b[0;36mDataFrame.applymap.<locals>.infer\u001b[0;34m(x)\u001b[0m\n\u001b[1;32m   8920\u001b[0m \u001b[38;5;28;01mif\u001b[39;00m x\u001b[38;5;241m.\u001b[39mempty:\n\u001b[1;32m   8921\u001b[0m     \u001b[38;5;28;01mreturn\u001b[39;00m lib\u001b[38;5;241m.\u001b[39mmap_infer(x, func, ignore_na\u001b[38;5;241m=\u001b[39mignore_na)\n\u001b[0;32m-> 8922\u001b[0m \u001b[38;5;28;01mreturn\u001b[39;00m \u001b[43mlib\u001b[49m\u001b[38;5;241;43m.\u001b[39;49m\u001b[43mmap_infer\u001b[49m\u001b[43m(\u001b[49m\u001b[43mx\u001b[49m\u001b[38;5;241;43m.\u001b[39;49m\u001b[43mastype\u001b[49m\u001b[43m(\u001b[49m\u001b[38;5;28;43mobject\u001b[39;49m\u001b[43m)\u001b[49m\u001b[38;5;241;43m.\u001b[39;49m\u001b[43m_values\u001b[49m\u001b[43m,\u001b[49m\u001b[43m \u001b[49m\u001b[43mfunc\u001b[49m\u001b[43m,\u001b[49m\u001b[43m \u001b[49m\u001b[43mignore_na\u001b[49m\u001b[38;5;241;43m=\u001b[39;49m\u001b[43mignore_na\u001b[49m\u001b[43m)\u001b[49m\n",
      "File \u001b[0;32m~/Documents/IE/ml-movie-oraculum/venv/lib/python3.9/site-packages/pandas/_libs/lib.pyx:2870\u001b[0m, in \u001b[0;36mpandas._libs.lib.map_infer\u001b[0;34m()\u001b[0m\n",
      "Input \u001b[0;32mIn [2]\u001b[0m, in \u001b[0;36mconversor_ms\u001b[0;34m(texto)\u001b[0m\n\u001b[1;32m     11\u001b[0m     \u001b[38;5;28;01mreturn\u001b[39;00m \u001b[38;5;241m1000\u001b[39m \u001b[38;5;241m*\u001b[39m \u001b[38;5;28mfloat\u001b[39m(texto[:\u001b[38;5;241m-\u001b[39m\u001b[38;5;241m1\u001b[39m])\n\u001b[1;32m     12\u001b[0m \u001b[38;5;28;01melse\u001b[39;00m:\n\u001b[0;32m---> 13\u001b[0m     \u001b[38;5;28;01mraise\u001b[39;00m \u001b[38;5;167;01mException\u001b[39;00m(\u001b[38;5;124m\"\u001b[39m\u001b[38;5;124mInvalid duration value\u001b[39m\u001b[38;5;124m\"\u001b[39m)\n",
      "\u001b[0;31mException\u001b[0m: Invalid duration value"
     ]
    }
   ],
   "source": [
    "# Conversión de todas las unidades a ms\n",
    "histograma = histograma.applymap(conversor_ms)\n",
    "histograma"
   ]
  },
  {
   "cell_type": "code",
   "execution_count": 5,
   "id": "static-funeral",
   "metadata": {},
   "outputs": [],
   "source": [
    "# ls = [(\"512x512\",512*512),(\"640x360\",640*360),\n",
    "#       (\"960x540\",960*540)\n",
    "#       ,(\"1280x720\",1280*720),(\"1920x1080\",1920*1080),(\"576x1024\",576*1024)]\n",
    "# print(sorted(ls,key=lambda x: x[1]))"
   ]
  },
  {
   "cell_type": "code",
   "execution_count": null,
   "id": "directed-proposal",
   "metadata": {},
   "outputs": [],
   "source": [
    "fig = px.line(df, x=\"year\", y=\"lifeExp\", color='country')\n",
    "fig.show()"
   ]
  },
  {
   "cell_type": "markdown",
   "id": "detailed-georgia",
   "metadata": {},
   "source": [
    "# Análisis de Rendimiento - Grayscale"
   ]
  },
  {
   "cell_type": "code",
   "execution_count": null,
   "id": "revolutionary-favor",
   "metadata": {},
   "outputs": [],
   "source": []
  },
  {
   "cell_type": "markdown",
   "id": "viral-bruce",
   "metadata": {},
   "source": [
    "# Análisis de Rendimiento - Histogramas"
   ]
  },
  {
   "cell_type": "code",
   "execution_count": null,
   "id": "rocky-portrait",
   "metadata": {},
   "outputs": [],
   "source": []
  },
  {
   "cell_type": "markdown",
   "id": "egyptian-sentence",
   "metadata": {},
   "source": [
    "# Análisis de Rendimiento - Filtro Gaussiano"
   ]
  },
  {
   "cell_type": "code",
   "execution_count": null,
   "id": "renewable-truth",
   "metadata": {},
   "outputs": [],
   "source": []
  },
  {
   "cell_type": "markdown",
   "id": "composite-taxation",
   "metadata": {},
   "source": [
    "# Análisis de Rendimiento - Filtro Media"
   ]
  },
  {
   "cell_type": "code",
   "execution_count": null,
   "id": "august-taiwan",
   "metadata": {},
   "outputs": [],
   "source": []
  },
  {
   "cell_type": "markdown",
   "id": "practical-maker",
   "metadata": {},
   "source": [
    "# Análisis de Rendimiento - Sobel"
   ]
  },
  {
   "cell_type": "code",
   "execution_count": null,
   "id": "macro-manner",
   "metadata": {},
   "outputs": [],
   "source": []
  },
  {
   "cell_type": "markdown",
   "id": "previous-singapore",
   "metadata": {},
   "source": [
    "# Análisis de Rendimiento - Filtro Laplaciano"
   ]
  },
  {
   "cell_type": "code",
   "execution_count": null,
   "id": "revolutionary-button",
   "metadata": {},
   "outputs": [],
   "source": []
  }
 ],
 "metadata": {
  "kernelspec": {
   "display_name": "venv",
   "language": "python",
   "name": "venv"
  },
  "language_info": {
   "codemirror_mode": {
    "name": "ipython",
    "version": 3
   },
   "file_extension": ".py",
   "mimetype": "text/x-python",
   "name": "python",
   "nbconvert_exporter": "python",
   "pygments_lexer": "ipython3",
   "version": "3.9.7"
  }
 },
 "nbformat": 4,
 "nbformat_minor": 5
}
